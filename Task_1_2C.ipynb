{
  "nbformat": 4,
  "nbformat_minor": 0,
  "metadata": {
    "colab": {
      "name": "Task_1.2C.ipynb",
      "provenance": [],
      "collapsed_sections": [],
      "toc_visible": true,
      "include_colab_link": true
    },
    "kernelspec": {
      "name": "python3",
      "display_name": "Python 3"
    }
  },
  "cells": [
    {
      "cell_type": "markdown",
      "metadata": {
        "id": "view-in-github",
        "colab_type": "text"
      },
      "source": [
        "<a href=\"https://colab.research.google.com/github/mattagnew/SIT796-Reinforcement-Learning/blob/main/Task_1_2C.ipynb\" target=\"_parent\"><img src=\"https://colab.research.google.com/assets/colab-badge.svg\" alt=\"Open In Colab\"/></a>"
      ]
    },
    {
      "cell_type": "markdown",
      "metadata": {
        "id": "z4O0tc8u6mrs"
      },
      "source": [
        "# Task 1.2C "
      ]
    },
    {
      "cell_type": "code",
      "metadata": {
        "id": "Y_e4gPxjgMKb"
      },
      "source": [
        "%%capture\r\n",
        "# INSTALL REQUIRED SYSTEM DEPENDENCIES\r\n",
        "\r\n",
        "!apt-get install -y xvfb x11-utils \r\n",
        "!apt-get install x11-utils > /dev/null 2>&1\r\n",
        "!pip install PyVirtualDisplay==2.0.* \\\r\n",
        "  PyOpenGL==3.1.* \\\r\n",
        "  PyOpenGL-accelerate==3.1.* \\\r\n",
        "  gym[box2d]==0.17.* \r\n",
        "!pip install pyglet"
      ],
      "execution_count": 1,
      "outputs": []
    },
    {
      "cell_type": "code",
      "metadata": {
        "id": "pYJw2r8V_GUL"
      },
      "source": [
        "# IMPORT REQUIRED PACKAGES\r\n",
        "\r\n",
        "import gym\r\n",
        "import numpy as np\r\n",
        "import base64\r\n",
        "import io\r\n",
        "import IPython\r\n",
        "import time\r\n",
        "from random import randint\r\n",
        "from random import seed\r\n",
        "from gym.wrappers import Monitor\r\n",
        "from IPython import display\r\n",
        "from pyvirtualdisplay import Display\r\n",
        "from gym import spaces\r\n",
        "from gym.utils import seeding"
      ],
      "execution_count": 2,
      "outputs": []
    },
    {
      "cell_type": "markdown",
      "metadata": {
        "id": "qRxBIkNKv6z3"
      },
      "source": [
        "## Environment\n",
        "\n",
        "---\n",
        "\n",
        "\n"
      ]
    },
    {
      "cell_type": "code",
      "metadata": {
        "id": "8ABBqqyZwDCy"
      },
      "source": [
        "# DEFINE ENVIRONMENT\n",
        "\n",
        "class RocketLander(gym.Env):\n",
        "  \"\"\"A rocket landing environment for OpenAI gym\"\"\"\n",
        "  \n",
        "  metadata = {'render.modes': ['human', 'rgb_array'],\n",
        "              'video.frames_per_second':30\n",
        "  }\n",
        "\n",
        "  def __init__(self, steps_per_s=1, goal_altitude=0, goal_velocity=0):\n",
        "    super(RocketLander, self).__init__()\n",
        "\n",
        "    self.steps_per_s = 1\n",
        "\n",
        "    self.min_position = 0\n",
        "    self.max_position = 1500\n",
        "    self.goal_altitude = goal_altitude\n",
        "    self.goal_velocity = goal_velocity\n",
        "\n",
        "    self.booster = 19.6/steps_per_s\n",
        "    self.threshold = 1\n",
        "\n",
        "    self.gravity = -9.8/steps_per_s\n",
        "    self.burn = self.booster + self.gravity\n",
        "\n",
        "    self.low = np.array(\n",
        "      [self.min_position, -9999, self.gravity], dtype=np.float32\n",
        "    ) \n",
        "\n",
        "    self.high = np.array(\n",
        "      [self.max_position, 9999, self.burn], dtype=np.float32\n",
        "    )\n",
        "\n",
        "    self.viewer = None\n",
        "\n",
        "    self.action_space = spaces.Discrete(2)\n",
        "    self.observation_space = spaces.Box(\n",
        "        self.low, self.high, dtype=np.float32\n",
        "    )\n",
        "\n",
        "  def seed(self,seed=None):\n",
        "    self.np_random, seed = seeding.np_random(seed)\n",
        "    return [seed]\n",
        "\n",
        "  def step(self, action):\n",
        "    assert self.action_space.contains(action), \"%r (%s) invalid\" % (action, type(action))\n",
        "\n",
        "    position, velocity, acceleration = self.state\n",
        "    acceleration = action * self.booster + self.gravity\n",
        "    velocity += acceleration  \n",
        "    position += velocity\n",
        "    position = np.clip(position, self.min_position, self.max_position)\n",
        "    done = bool(\n",
        "        position == self.goal_altitude)\n",
        "    \n",
        "    reward = (abs(position) + velocity**2)\n",
        "\n",
        "    self.state = (position, velocity, acceleration)\n",
        "    return np.array(self.state), reward, done, {}\n",
        "\n",
        "  def reset(self):\n",
        "    self.state = np.array([1000, 0, self.gravity])\n",
        "    return np.array(self.state)\n",
        "\n",
        "  def render(self, mode='human'):\n",
        "        screen_width = 200\n",
        "        screen_height = 400\n",
        "\n",
        "        world_width = self.max_position - self.min_position\n",
        "        scale = screen_width / world_width\n",
        "        rocketwidth = 20\n",
        "        rocketheight = 40\n",
        "        \n",
        "        if (self.state[2] > 0):\n",
        "            burner = 1\n",
        "        else:\n",
        "            burner = 0\n",
        "            \n",
        "        if self.viewer is None:\n",
        "            from gym.envs.classic_control import rendering\n",
        "            self.viewer = rendering.Viewer(screen_width, screen_height)\n",
        "            xs = np.linspace(self.min_position, self.max_position, 100)\n",
        "\n",
        "            clearance = 0\n",
        "\n",
        "            l, r, t, b = -rocketwidth / 2, rocketwidth / 2, rocketheight, 0\n",
        "            rocket = rendering.FilledPolygon([(l, b), (l, t), (r, t), (r, b)])\n",
        "            rocket.add_attr(rendering.Transform(translation=(0, clearance)))\n",
        "            self.rockettrans = rendering.Transform()\n",
        "            rocket.add_attr(self.rockettrans)\n",
        "            self.viewer.add_geom(rocket)\n",
        "            \n",
        "        pos = self.state[0]\n",
        "        self.rockettrans.set_translation(\n",
        "            100, (pos-self.min_position) * scale\n",
        "        )\n",
        "\n",
        "        return self.viewer.render(return_rgb_array=mode == 'rgb_array')"
      ],
      "execution_count": 10,
      "outputs": []
    },
    {
      "cell_type": "markdown",
      "metadata": {
        "id": "NK5UmZa46mhI"
      },
      "source": [
        "## Policy"
      ]
    },
    {
      "cell_type": "code",
      "metadata": {
        "id": "FkCGmzn4-lQX"
      },
      "source": [
        "# DEFINE POLICY\n",
        "\n",
        "def policy(obs, t):\n",
        "    position, velocity, acceleration = obs\n",
        "    \n",
        "    # CURRENT POLICY : RANDOM ACTIONS\n",
        "    # The actions are\n",
        "    #    0      Don't activate booster\n",
        "    #    1      Activate booster\n",
        "\n",
        "    # seed random number generator with the system clock\n",
        "    seed(time.clock())\n",
        "        \n",
        "    # generate random integers between zero and two\n",
        "    actions = randint(0,1)\n",
        "   \n",
        "    return actions"
      ],
      "execution_count": 11,
      "outputs": []
    },
    {
      "cell_type": "markdown",
      "metadata": {
        "id": "FS_Zme2n6poy"
      },
      "source": [
        "## Run"
      ]
    },
    {
      "cell_type": "code",
      "metadata": {
        "colab": {
          "base_uri": "https://localhost:8080/"
        },
        "id": "nBmybV76BhIb",
        "outputId": "b2e1909d-f9b3-4532-bcc3-be6b2453a7df"
      },
      "source": [
        "# RUN ENVIRONMENT\n",
        "\n",
        "!rm ./vid/*.* # CLEAN UP THE VIDEO BEFORE STARTING\n",
        "\n",
        "TIME_LIMIT = 2000 # SET TIME LIMIT\n",
        "reset_flag = 0\n",
        "\n",
        "d = Display()\n",
        "d.start()\n",
        "\n",
        "env = RocketLander()\n",
        "env = Monitor(env,'./vid',force=True)\n",
        "\n",
        "o = env.reset()\n",
        "\n",
        "for t in range(TIME_LIMIT):\n",
        "    \n",
        "    action = policy(o,t)            # CALL POLICY\n",
        "    o, r, d, _ = env.step(action)   # ACTION FROM POLICY USED IN ENVIRONMENT\n",
        "    print(o, r)\n",
        "\n",
        "    if d and t<TIME_LIMIT-1:\n",
        "        print(\"Task completed in\", t, \"time steps\")\n",
        "        reset_flag = 1\n",
        "        break\n",
        "else:\n",
        "    print(\"Time limit exceeded. Try again.\")\n",
        "\n",
        "if reset_flag>0:\n",
        "  env.reset()"
      ],
      "execution_count": 12,
      "outputs": [
        {
          "output_type": "stream",
          "text": [
            "/usr/local/lib/python3.7/dist-packages/gym/logger.py:30: UserWarning: \u001b[33mWARN: Trying to monitor an environment which has no 'spec' set. This usually means you did not create it via 'gym.make', and is recommended only for advanced users.\u001b[0m\n",
            "  warnings.warn(colorize('%s: %s'%('WARN', msg % args), 'yellow'))\n",
            "/usr/local/lib/python3.7/dist-packages/ipykernel_launcher.py:12: DeprecationWarning: time.clock has been deprecated in Python 3.3 and will be removed from Python 3.8: use time.perf_counter or time.process_time instead\n",
            "  if sys.path[0] == '':\n"
          ],
          "name": "stderr"
        },
        {
          "output_type": "stream",
          "text": [
            "[990.2  -9.8  -9.8] 1086.24\n",
            "[970.6 -19.6  -9.8] 1354.7600000000002\n",
            "[960.8  -9.8   9.8] 1056.8400000000001\n",
            "[960.8   0.    9.8] 960.8000000000001\n",
            "[970.6   9.8   9.8] 1066.64\n",
            "[970.6   0.   -9.8] 970.6\n",
            "[980.4   9.8   9.8] 1076.44\n",
            "[1000.    19.6    9.8] 1384.16\n",
            "[1029.4   29.4    9.8] 1893.7600000000002\n",
            "[1049.    19.6   -9.8] 1433.16\n",
            "[1078.4   29.4    9.8] 1942.7600000000002\n",
            "[1098.    19.6   -9.8] 1482.16\n",
            "[1107.8    9.8   -9.8] 1203.84\n",
            "[1107.8    0.    -9.8] 1107.8\n",
            "[1098.    -9.8   -9.8] 1194.04\n",
            "[1078.4  -19.6   -9.8] 1462.5600000000002\n",
            "[1049.   -29.4   -9.8] 1913.3600000000001\n",
            "[1029.4  -19.6    9.8] 1413.5600000000002\n",
            "[1000.   -29.4   -9.8] 1864.3600000000001\n",
            "[960.8 -39.2  -9.8] 2497.4400000000005\n",
            "[931.4 -29.4   9.8] 1795.7600000000002\n",
            "[892.2 -39.2  -9.8] 2428.84\n",
            "[843.2 -49.   -9.8] 3244.2\n",
            "[784.4 -58.8  -9.8] 4241.84\n",
            "[735.4 -49.    9.8] 3136.4\n",
            "[696.2 -39.2   9.8] 2232.84\n",
            "[666.8 -29.4   9.8] 1531.1600000000003\n",
            "[627.6 -39.2  -9.8] 2164.2400000000002\n",
            "[578.6 -49.   -9.8] 2979.6\n",
            "[539.4 -39.2   9.8] 2076.0400000000004\n",
            "[510.  -29.4   9.8] 1374.3600000000001\n",
            "[490.4 -19.6   9.8] 874.5600000000001\n",
            "[461.  -29.4  -9.8] 1325.3600000000001\n",
            "[421.8 -39.2  -9.8] 1958.4400000000003\n",
            "[372.8 -49.   -9.8] 2773.8\n",
            "[333.6 -39.2   9.8] 1870.2400000000002\n",
            "[284.6 -49.   -9.8] 2685.6\n",
            "[225.8 -58.8  -9.8] 3683.24\n",
            "[157.2 -68.6  -9.8] 4863.159999999999\n",
            "[ 98.4 -58.8   9.8] 3555.8399999999997\n",
            "[ 49.4 -49.    9.8] 2450.4\n",
            "[  0.  -58.8  -9.8] 3457.4399999999996\n",
            "Task completed in 41 time steps\n"
          ],
          "name": "stdout"
        }
      ]
    },
    {
      "cell_type": "markdown",
      "metadata": {
        "id": "rqSLPRY_6sen"
      },
      "source": [
        "## Video"
      ]
    },
    {
      "cell_type": "code",
      "metadata": {
        "colab": {
          "base_uri": "https://localhost:8080/",
          "height": 421
        },
        "id": "loG1cqK3Bj4h",
        "outputId": "ac491564-981e-4638-a25d-50cf73100b9f"
      },
      "source": [
        "# OBSERVE VIDEO\n",
        "\n",
        "for f in env.videos:\n",
        "    video = io.open(f[0], 'r+b').read()\n",
        "    encoded = base64.b64encode(video)\n",
        "\n",
        "    display.display(display.HTML(data=\"\"\"\n",
        "        <video alt=\"test\" controls>\n",
        "        <source src=\"data:video/mp4;base64,{0}\" type=\"video/mp4\" />\n",
        "        </video>\n",
        "        \"\"\".format(encoded.decode('ascii'))))"
      ],
      "execution_count": 6,
      "outputs": [
        {
          "output_type": "display_data",
          "data": {
            "text/html": [
              "\n",
              "        <video alt=\"test\" controls>\n",
              "        <source src=\"data:video/mp4;base64,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\" type=\"video/mp4\" />\n",
              "        </video>\n",
              "        "
            ],
            "text/plain": [
              "<IPython.core.display.HTML object>"
            ]
          },
          "metadata": {
            "tags": []
          }
        }
      ]
    },
    {
      "cell_type": "code",
      "metadata": {
        "id": "ggAZw2ExBz37"
      },
      "source": [
        ""
      ],
      "execution_count": 6,
      "outputs": []
    }
  ]
}