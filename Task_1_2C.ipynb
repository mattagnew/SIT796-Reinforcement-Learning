{
  "nbformat": 4,
  "nbformat_minor": 0,
  "metadata": {
    "colab": {
      "name": "Task_1.2C.ipynb",
      "provenance": [],
      "collapsed_sections": [],
      "toc_visible": true,
      "include_colab_link": true
    },
    "kernelspec": {
      "name": "python3",
      "display_name": "Python 3"
    }
  },
  "cells": [
    {
      "cell_type": "markdown",
      "metadata": {
        "id": "view-in-github",
        "colab_type": "text"
      },
      "source": [
        "<a href=\"https://colab.research.google.com/github/mattagnew/SIT796-Reinforcement-Learning/blob/main/Task_1_2C.ipynb\" target=\"_parent\"><img src=\"https://colab.research.google.com/assets/colab-badge.svg\" alt=\"Open In Colab\"/></a>"
      ]
    },
    {
      "cell_type": "markdown",
      "metadata": {
        "id": "z4O0tc8u6mrs"
      },
      "source": [
        "# Task 1.2C "
      ]
    },
    {
      "cell_type": "code",
      "metadata": {
        "id": "Y_e4gPxjgMKb"
      },
      "source": [
        "%%capture\r\n",
        "# INSTALL REQUIRED SYSTEM DEPENDENCIES\r\n",
        "\r\n",
        "!apt-get install -y xvfb x11-utils \r\n",
        "!apt-get install x11-utils > /dev/null 2>&1\r\n",
        "!pip install PyVirtualDisplay==2.0.* \\\r\n",
        "  PyOpenGL==3.1.* \\\r\n",
        "  PyOpenGL-accelerate==3.1.* \\\r\n",
        "  gym[box2d]==0.17.* \r\n",
        "!pip install pyglet"
      ],
      "execution_count": null,
      "outputs": []
    },
    {
      "cell_type": "code",
      "metadata": {
        "id": "pYJw2r8V_GUL"
      },
      "source": [
        "# IMPORT REQUIRED PACKAGES\r\n",
        "\r\n",
        "import gym\r\n",
        "import numpy as np\r\n",
        "import base64\r\n",
        "import io\r\n",
        "import IPython\r\n",
        "import time\r\n",
        "from random import randint\r\n",
        "from random import seed\r\n",
        "from gym.wrappers import Monitor\r\n",
        "from IPython import display\r\n",
        "from pyvirtualdisplay import Display\r\n",
        "from gym import spaces\r\n",
        "from gym.utils import seeding"
      ],
      "execution_count": null,
      "outputs": []
    },
    {
      "cell_type": "markdown",
      "metadata": {
        "id": "qRxBIkNKv6z3"
      },
      "source": [
        "## Environment\n",
        "\n",
        "---\n",
        "\n",
        "\n"
      ]
    },
    {
      "cell_type": "code",
      "metadata": {
        "id": "8ABBqqyZwDCy"
      },
      "source": [
        "# DEFINE ENVIRONMENT\n",
        "\n",
        "class RocketLander(gym.Env):\n",
        "  \"\"\"A rocket landing environment for OpenAI gym\"\"\"\n",
        "  \n",
        "  metadata = {'render.modes': ['human', 'rgb_array'],\n",
        "              'video.frames_per_second':30\n",
        "  }\n",
        "\n",
        "  def __init__(self, steps_per_s=1, goal_altitude=0, goal_velocity=0):\n",
        "    super(RocketLander, self).__init__()\n",
        "\n",
        "    self.steps_per_s = steps_per_s\n",
        "\n",
        "    self.min_position = 0\n",
        "    self.max_position = 1500\n",
        "    self.goal_altitude = goal_altitude\n",
        "    self.goal_velocity = goal_velocity\n",
        "\n",
        "    self.booster = 19.6/steps_per_s\n",
        "    self.threshold = 1\n",
        "\n",
        "    self.gravity = -9.8/steps_per_s\n",
        "    self.burn = self.booster + self.gravity\n",
        "\n",
        "    self.low = np.array(\n",
        "      [self.min_position, -9999, self.gravity], dtype=np.float32\n",
        "    ) \n",
        "\n",
        "    self.high = np.array(\n",
        "      [self.max_position, 9999, self.burn], dtype=np.float32\n",
        "    )\n",
        "\n",
        "    self.viewer = None\n",
        "\n",
        "    self.action_space = spaces.Discrete(2)\n",
        "    self.observation_space = spaces.Box(\n",
        "        self.low, self.high, dtype=np.float32\n",
        "    )\n",
        "\n",
        "  def seed(self,seed=None):\n",
        "    self.np_random, seed = seeding.np_random(seed)\n",
        "    return [seed]\n",
        "\n",
        "  def step(self, action):\n",
        "    assert self.action_space.contains(action), \"%r (%s) invalid\" % (action, type(action))\n",
        "\n",
        "    position, velocity, acceleration = self.state\n",
        "    acceleration = action * self.booster + self.gravity\n",
        "    velocity += acceleration  \n",
        "    position += velocity\n",
        "    position = np.clip(position, self.min_position, self.max_position)\n",
        "    done = bool(\n",
        "        position == self.goal_altitude)\n",
        "    \n",
        "    reward = (abs(position) + velocity**2)\n",
        "\n",
        "    self.state = (position, velocity, acceleration)\n",
        "    return np.array(self.state), reward, done, {}\n",
        "\n",
        "  def reset(self):\n",
        "    self.state = np.array([1000, 0, self.gravity])\n",
        "    return np.array(self.state)\n",
        "\n",
        "  def render(self, mode='human'):\n",
        "        screen_width = 200\n",
        "        screen_height = 400\n",
        "\n",
        "        world_width = self.max_position - self.min_position\n",
        "        scale = screen_width / world_width\n",
        "        rocketwidth = 20\n",
        "        rocketheight = 40\n",
        "        \n",
        "        if (self.state[2] > 0):\n",
        "            burner = 1\n",
        "        else:\n",
        "            burner = 0\n",
        "            \n",
        "        if self.viewer is None:\n",
        "            from gym.envs.classic_control import rendering\n",
        "            self.viewer = rendering.Viewer(screen_width, screen_height)\n",
        "            xs = np.linspace(self.min_position, self.max_position, 100)\n",
        "\n",
        "            clearance = 0\n",
        "\n",
        "            l, r, t, b = -rocketwidth / 2, rocketwidth / 2, rocketheight, 0\n",
        "            rocket = rendering.FilledPolygon([(l, b), (l, t), (r, t), (r, b)])\n",
        "            rocket.add_attr(rendering.Transform(translation=(0, clearance)))\n",
        "            self.rockettrans = rendering.Transform()\n",
        "            rocket.add_attr(self.rockettrans)\n",
        "            self.viewer.add_geom(rocket)\n",
        "            \n",
        "        pos = self.state[0]\n",
        "        self.rockettrans.set_translation(\n",
        "            100, (pos-self.min_position) * scale\n",
        "        )\n",
        "\n",
        "        return self.viewer.render(return_rgb_array=mode == 'rgb_array')"
      ],
      "execution_count": 24,
      "outputs": []
    },
    {
      "cell_type": "markdown",
      "metadata": {
        "id": "NK5UmZa46mhI"
      },
      "source": [
        "## Policy"
      ]
    },
    {
      "cell_type": "code",
      "metadata": {
        "id": "FkCGmzn4-lQX"
      },
      "source": [
        "# DEFINE POLICY\n",
        "\n",
        "def policy(obs, t):\n",
        "    position, velocity, acceleration = obs\n",
        "    \n",
        "    # CURRENT POLICY : RANDOM ACTIONS\n",
        "    # The actions are\n",
        "    #    0      Don't activate booster\n",
        "    #    1      Activate booster\n",
        "\n",
        "    # seed random number generator with the system clock\n",
        "    seed(time.clock())\n",
        "        \n",
        "    # generate random integers between zero and two\n",
        "    actions = 0\n",
        "    if (velocity < -50):\n",
        "        actions=1\n",
        "    \n",
        "    if (position < 500):\n",
        "        if (velocity < -10):\n",
        "          actions=1\n",
        "   \n",
        "    return actions"
      ],
      "execution_count": 42,
      "outputs": []
    },
    {
      "cell_type": "markdown",
      "metadata": {
        "id": "FS_Zme2n6poy"
      },
      "source": [
        "## Run"
      ]
    },
    {
      "cell_type": "code",
      "metadata": {
        "colab": {
          "base_uri": "https://localhost:8080/"
        },
        "id": "nBmybV76BhIb",
        "outputId": "e96c581d-6f80-4706-e0c3-e9e2f4f0c960"
      },
      "source": [
        "# RUN ENVIRONMENT\n",
        "\n",
        "!rm ./vid/*.* # CLEAN UP THE VIDEO BEFORE STARTING\n",
        "\n",
        "TIME_LIMIT = 2000 # SET TIME LIMIT\n",
        "reset_flag = 0\n",
        "\n",
        "d = Display()\n",
        "d.start()\n",
        "\n",
        "env = RocketLander()\n",
        "env = Monitor(env,'./vid',force=True)\n",
        "\n",
        "o = env.reset()\n",
        "\n",
        "for t in range(TIME_LIMIT):\n",
        "    \n",
        "    action = policy(o,t)            # CALL POLICY\n",
        "    o, r, d, _ = env.step(action)   # ACTION FROM POLICY USED IN ENVIRONMENT\n",
        "    print(o, r)\n",
        "\n",
        "    if d and t<TIME_LIMIT-1:\n",
        "        print(\"Task completed in\", t, \"time steps\")\n",
        "        reset_flag = 1\n",
        "        break\n",
        "else:\n",
        "    print(\"Time limit exceeded. Try again.\")\n",
        "\n",
        "if reset_flag>0:\n",
        "  env.reset()"
      ],
      "execution_count": 43,
      "outputs": [
        {
          "output_type": "stream",
          "text": [
            "/usr/local/lib/python3.7/dist-packages/gym/logger.py:30: UserWarning: \u001b[33mWARN: Trying to monitor an environment which has no 'spec' set. This usually means you did not create it via 'gym.make', and is recommended only for advanced users.\u001b[0m\n",
            "  warnings.warn(colorize('%s: %s'%('WARN', msg % args), 'yellow'))\n",
            "/usr/local/lib/python3.7/dist-packages/ipykernel_launcher.py:12: DeprecationWarning: time.clock has been deprecated in Python 3.3 and will be removed from Python 3.8: use time.perf_counter or time.process_time instead\n",
            "  if sys.path[0] == '':\n"
          ],
          "name": "stderr"
        },
        {
          "output_type": "stream",
          "text": [
            "[990.2  -9.8  -9.8] 1086.24\n",
            "[970.6 -19.6  -9.8] 1354.7600000000002\n",
            "[941.2 -29.4  -9.8] 1805.5600000000002\n",
            "[902.  -39.2  -9.8] 2438.6400000000003\n",
            "[853.  -49.   -9.8] 3254.0\n",
            "[794.2 -58.8  -9.8] 4251.639999999999\n",
            "[745.2 -49.    9.8] 3146.2\n",
            "[686.4 -58.8  -9.8] 4143.84\n",
            "[637.4 -49.    9.8] 3038.4\n",
            "[578.6 -58.8  -9.8] 4036.04\n",
            "[529.6 -49.    9.8] 2930.6000000000004\n",
            "[470.8 -58.8  -9.8] 3928.24\n",
            "[421.8 -49.    9.8] 2822.8\n",
            "[382.6 -39.2   9.8] 1919.2400000000005\n",
            "[353.2 -29.4   9.8] 1217.5600000000004\n",
            "[333.6 -19.6   9.8] 717.7600000000002\n",
            "[323.8  -9.8   9.8] 419.84000000000015\n",
            "[304.2 -19.6  -9.8] 688.3600000000001\n",
            "[294.4  -9.8   9.8] 390.4400000000001\n",
            "[274.8 -19.6  -9.8] 658.9600000000002\n",
            "[265.   -9.8   9.8] 361.0400000000001\n",
            "[245.4 -19.6  -9.8] 629.5600000000002\n",
            "[235.6  -9.8   9.8] 331.6400000000001\n",
            "[216.  -19.6  -9.8] 600.1600000000001\n",
            "[206.2  -9.8   9.8] 302.24000000000007\n",
            "[186.6 -19.6  -9.8] 570.7600000000001\n",
            "[176.8  -9.8   9.8] 272.84000000000003\n",
            "[157.2 -19.6  -9.8] 541.3600000000001\n",
            "[147.4  -9.8   9.8] 243.44000000000005\n",
            "[127.8 -19.6  -9.8] 511.96000000000015\n",
            "[118.   -9.8   9.8] 214.04000000000008\n",
            "[ 98.4 -19.6  -9.8] 482.5600000000001\n",
            "[88.6 -9.8  9.8] 184.64000000000004\n",
            "[ 69.  -19.6  -9.8] 453.1600000000001\n",
            "[59.2 -9.8  9.8] 155.24000000000007\n",
            "[ 39.6 -19.6  -9.8] 423.7600000000001\n",
            "[29.8 -9.8  9.8] 125.84000000000005\n",
            "[ 10.2 -19.6  -9.8] 394.3600000000001\n",
            "[ 0.4 -9.8  9.8] 96.44000000000005\n",
            "[  0.  -19.6  -9.8] 384.1600000000001\n",
            "Task completed in 39 time steps\n"
          ],
          "name": "stdout"
        }
      ]
    },
    {
      "cell_type": "markdown",
      "metadata": {
        "id": "rqSLPRY_6sen"
      },
      "source": [
        "## Video"
      ]
    },
    {
      "cell_type": "code",
      "metadata": {
        "colab": {
          "base_uri": "https://localhost:8080/",
          "height": 421
        },
        "id": "loG1cqK3Bj4h",
        "outputId": "8c380496-a817-42e8-a09e-fd11d2686ec3"
      },
      "source": [
        "# OBSERVE VIDEO\n",
        "\n",
        "for f in env.videos:\n",
        "    video = io.open(f[0], 'r+b').read()\n",
        "    encoded = base64.b64encode(video)\n",
        "\n",
        "    display.display(display.HTML(data=\"\"\"\n",
        "        <video alt=\"test\" controls>\n",
        "        <source src=\"data:video/mp4;base64,{0}\" type=\"video/mp4\" />\n",
        "        </video>\n",
        "        \"\"\".format(encoded.decode('ascii'))))"
      ],
      "execution_count": 44,
      "outputs": [
        {
          "output_type": "display_data",
          "data": {
            "text/html": [
              "\n",
              "        <video alt=\"test\" controls>\n",
              "        <source src=\"data:video/mp4;base64,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\" type=\"video/mp4\" />\n",
              "        </video>\n",
              "        "
            ],
            "text/plain": [
              "<IPython.core.display.HTML object>"
            ]
          },
          "metadata": {
            "tags": []
          }
        }
      ]
    },
    {
      "cell_type": "code",
      "metadata": {
        "id": "ggAZw2ExBz37"
      },
      "source": [
        ""
      ],
      "execution_count": null,
      "outputs": []
    }
  ]
}